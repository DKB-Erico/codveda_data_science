{
 "cells": [
  {
   "cell_type": "code",
   "id": "initial_id",
   "metadata": {
    "collapsed": true,
    "ExecuteTime": {
     "end_time": "2025-10-21T10:27:07.540300Z",
     "start_time": "2025-10-21T10:27:07.429917Z"
    }
   },
   "source": [
    "# Importing necessary packages\n",
    "import pandas as pd\n",
    "import numpy as np\n",
    "from sklearn.preprocessing import OneHotEncoder, StandardScaler\n",
    "from sklearn.model_selection import train_test_split\n",
    "\n",
    "# Loading dataset into a DataFrame\n",
    "col_names = [\"age\", \"workclass\", \"fnlwgt\", \"education\", \"education_num\", \"marital_status\", \"occupation\", \"relationship\", \"race\", \"sex\", \"capital_gain\", \"capital_loss\", \"hours_per_week\", \"native_country\", \"income\"]\n",
    "\n",
    "# Reading CSV, handling missing value token \" ?\", and trimming spaces after delimiters\n",
    "df = pd.read_csv(\"/Users/Biadela/Documents/Data Analysis:Science/Codveda Internship/codveda-data-science/adult.csv\", header = None, names = col_names, na_values = \"?\", skipinitialspace = True)\n",
    "\n",
    "print(\"The dataset is of the shape \" + str(df.shape))\n",
    "df.head()"
   ],
   "outputs": [
    {
     "name": "stdout",
     "output_type": "stream",
     "text": [
      "The dataset is of the shape (32561, 15)\n"
     ]
    },
    {
     "data": {
      "text/plain": [
       "   age         workclass  fnlwgt  education  education_num  \\\n",
       "0   39         State-gov   77516  Bachelors             13   \n",
       "1   50  Self-emp-not-inc   83311  Bachelors             13   \n",
       "2   38           Private  215646    HS-grad              9   \n",
       "3   53           Private  234721       11th              7   \n",
       "4   28           Private  338409  Bachelors             13   \n",
       "\n",
       "       marital_status         occupation   relationship   race     sex  \\\n",
       "0       Never-married       Adm-clerical  Not-in-family  White    Male   \n",
       "1  Married-civ-spouse    Exec-managerial        Husband  White    Male   \n",
       "2            Divorced  Handlers-cleaners  Not-in-family  White    Male   \n",
       "3  Married-civ-spouse  Handlers-cleaners        Husband  Black    Male   \n",
       "4  Married-civ-spouse     Prof-specialty           Wife  Black  Female   \n",
       "\n",
       "   capital_gain  capital_loss  hours_per_week native_country income  \n",
       "0          2174             0              40  United-States  <=50K  \n",
       "1             0             0              13  United-States  <=50K  \n",
       "2             0             0              40  United-States  <=50K  \n",
       "3             0             0              40  United-States  <=50K  \n",
       "4             0             0              40           Cuba  <=50K  "
      ],
      "text/html": [
       "<div>\n",
       "<style scoped>\n",
       "    .dataframe tbody tr th:only-of-type {\n",
       "        vertical-align: middle;\n",
       "    }\n",
       "\n",
       "    .dataframe tbody tr th {\n",
       "        vertical-align: top;\n",
       "    }\n",
       "\n",
       "    .dataframe thead th {\n",
       "        text-align: right;\n",
       "    }\n",
       "</style>\n",
       "<table border=\"1\" class=\"dataframe\">\n",
       "  <thead>\n",
       "    <tr style=\"text-align: right;\">\n",
       "      <th></th>\n",
       "      <th>age</th>\n",
       "      <th>workclass</th>\n",
       "      <th>fnlwgt</th>\n",
       "      <th>education</th>\n",
       "      <th>education_num</th>\n",
       "      <th>marital_status</th>\n",
       "      <th>occupation</th>\n",
       "      <th>relationship</th>\n",
       "      <th>race</th>\n",
       "      <th>sex</th>\n",
       "      <th>capital_gain</th>\n",
       "      <th>capital_loss</th>\n",
       "      <th>hours_per_week</th>\n",
       "      <th>native_country</th>\n",
       "      <th>income</th>\n",
       "    </tr>\n",
       "  </thead>\n",
       "  <tbody>\n",
       "    <tr>\n",
       "      <th>0</th>\n",
       "      <td>39</td>\n",
       "      <td>State-gov</td>\n",
       "      <td>77516</td>\n",
       "      <td>Bachelors</td>\n",
       "      <td>13</td>\n",
       "      <td>Never-married</td>\n",
       "      <td>Adm-clerical</td>\n",
       "      <td>Not-in-family</td>\n",
       "      <td>White</td>\n",
       "      <td>Male</td>\n",
       "      <td>2174</td>\n",
       "      <td>0</td>\n",
       "      <td>40</td>\n",
       "      <td>United-States</td>\n",
       "      <td>&lt;=50K</td>\n",
       "    </tr>\n",
       "    <tr>\n",
       "      <th>1</th>\n",
       "      <td>50</td>\n",
       "      <td>Self-emp-not-inc</td>\n",
       "      <td>83311</td>\n",
       "      <td>Bachelors</td>\n",
       "      <td>13</td>\n",
       "      <td>Married-civ-spouse</td>\n",
       "      <td>Exec-managerial</td>\n",
       "      <td>Husband</td>\n",
       "      <td>White</td>\n",
       "      <td>Male</td>\n",
       "      <td>0</td>\n",
       "      <td>0</td>\n",
       "      <td>13</td>\n",
       "      <td>United-States</td>\n",
       "      <td>&lt;=50K</td>\n",
       "    </tr>\n",
       "    <tr>\n",
       "      <th>2</th>\n",
       "      <td>38</td>\n",
       "      <td>Private</td>\n",
       "      <td>215646</td>\n",
       "      <td>HS-grad</td>\n",
       "      <td>9</td>\n",
       "      <td>Divorced</td>\n",
       "      <td>Handlers-cleaners</td>\n",
       "      <td>Not-in-family</td>\n",
       "      <td>White</td>\n",
       "      <td>Male</td>\n",
       "      <td>0</td>\n",
       "      <td>0</td>\n",
       "      <td>40</td>\n",
       "      <td>United-States</td>\n",
       "      <td>&lt;=50K</td>\n",
       "    </tr>\n",
       "    <tr>\n",
       "      <th>3</th>\n",
       "      <td>53</td>\n",
       "      <td>Private</td>\n",
       "      <td>234721</td>\n",
       "      <td>11th</td>\n",
       "      <td>7</td>\n",
       "      <td>Married-civ-spouse</td>\n",
       "      <td>Handlers-cleaners</td>\n",
       "      <td>Husband</td>\n",
       "      <td>Black</td>\n",
       "      <td>Male</td>\n",
       "      <td>0</td>\n",
       "      <td>0</td>\n",
       "      <td>40</td>\n",
       "      <td>United-States</td>\n",
       "      <td>&lt;=50K</td>\n",
       "    </tr>\n",
       "    <tr>\n",
       "      <th>4</th>\n",
       "      <td>28</td>\n",
       "      <td>Private</td>\n",
       "      <td>338409</td>\n",
       "      <td>Bachelors</td>\n",
       "      <td>13</td>\n",
       "      <td>Married-civ-spouse</td>\n",
       "      <td>Prof-specialty</td>\n",
       "      <td>Wife</td>\n",
       "      <td>Black</td>\n",
       "      <td>Female</td>\n",
       "      <td>0</td>\n",
       "      <td>0</td>\n",
       "      <td>40</td>\n",
       "      <td>Cuba</td>\n",
       "      <td>&lt;=50K</td>\n",
       "    </tr>\n",
       "  </tbody>\n",
       "</table>\n",
       "</div>"
      ]
     },
     "execution_count": 14,
     "metadata": {},
     "output_type": "execute_result"
    }
   ],
   "execution_count": 14
  },
  {
   "metadata": {
    "ExecuteTime": {
     "end_time": "2025-10-21T10:27:07.689542Z",
     "start_time": "2025-10-21T10:27:07.614777Z"
    }
   },
   "cell_type": "code",
   "source": [
    "# Inspecting data types and missing values\n",
    "print(\"The dataset consists of:\")\n",
    "df.info()\n",
    "\n",
    "print(\"\\nThe number of missing values per column are:\")\n",
    "print(df.isnull().sum().sort_values(ascending = False))\n",
    "\n",
    "print(\"\\nThe number of unique elements per object column is:\")\n",
    "print(df.select_dtypes(include = \"object\").nunique().sort_values(ascending = False))"
   ],
   "id": "889e276033a4a97d",
   "outputs": [
    {
     "name": "stdout",
     "output_type": "stream",
     "text": [
      "The dataset consists of:\n",
      "<class 'pandas.core.frame.DataFrame'>\n",
      "RangeIndex: 32561 entries, 0 to 32560\n",
      "Data columns (total 15 columns):\n",
      " #   Column          Non-Null Count  Dtype \n",
      "---  ------          --------------  ----- \n",
      " 0   age             32561 non-null  int64 \n",
      " 1   workclass       30725 non-null  object\n",
      " 2   fnlwgt          32561 non-null  int64 \n",
      " 3   education       32561 non-null  object\n",
      " 4   education_num   32561 non-null  int64 \n",
      " 5   marital_status  32561 non-null  object\n",
      " 6   occupation      30718 non-null  object\n",
      " 7   relationship    32561 non-null  object\n",
      " 8   race            32561 non-null  object\n",
      " 9   sex             32561 non-null  object\n",
      " 10  capital_gain    32561 non-null  int64 \n",
      " 11  capital_loss    32561 non-null  int64 \n",
      " 12  hours_per_week  32561 non-null  int64 \n",
      " 13  native_country  31978 non-null  object\n",
      " 14  income          32561 non-null  object\n",
      "dtypes: int64(6), object(9)\n",
      "memory usage: 3.7+ MB\n",
      "\n",
      "The number of missing values per column are:\n",
      "occupation        1843\n",
      "workclass         1836\n",
      "native_country     583\n",
      "fnlwgt               0\n",
      "education            0\n",
      "education_num        0\n",
      "age                  0\n",
      "marital_status       0\n",
      "relationship         0\n",
      "sex                  0\n",
      "race                 0\n",
      "capital_gain         0\n",
      "capital_loss         0\n",
      "hours_per_week       0\n",
      "income               0\n",
      "dtype: int64\n",
      "\n",
      "The number of unique elements per object column is:\n",
      "native_country    41\n",
      "education         16\n",
      "occupation        14\n",
      "workclass          8\n",
      "marital_status     7\n",
      "relationship       6\n",
      "race               5\n",
      "sex                2\n",
      "income             2\n",
      "dtype: int64\n"
     ]
    }
   ],
   "execution_count": 15
  },
  {
   "metadata": {
    "ExecuteTime": {
     "end_time": "2025-10-21T12:12:10.964439Z",
     "start_time": "2025-10-21T12:12:10.882286Z"
    }
   },
   "cell_type": "code",
   "source": [
    "# Removing rows with missing values\n",
    "df = df.dropna().reset_index(drop = True)\n",
    "\n",
    "print(f\"\\nRows remaining after dropping missing values: {df.shape[0]}\")\n",
    "\n",
    "print(df.isnull().sum())"
   ],
   "id": "9de73dfd7babb6b3",
   "outputs": [
    {
     "name": "stdout",
     "output_type": "stream",
     "text": [
      "\n",
      "Rows remaining after dropping missing values: 30162\n",
      "age               0\n",
      "workclass         0\n",
      "fnlwgt            0\n",
      "education         0\n",
      "education_num     0\n",
      "marital_status    0\n",
      "occupation        0\n",
      "relationship      0\n",
      "race              0\n",
      "sex               0\n",
      "capital_gain      0\n",
      "capital_loss      0\n",
      "hours_per_week    0\n",
      "native_country    0\n",
      "income            0\n",
      "dtype: int64\n"
     ]
    }
   ],
   "execution_count": 26
  },
  {
   "metadata": {
    "ExecuteTime": {
     "end_time": "2025-10-21T12:19:04.734606Z",
     "start_time": "2025-10-21T12:19:04.645140Z"
    }
   },
   "cell_type": "code",
   "source": [
    "# Checking for and dealing with duplicates\n",
    "dups = df.duplicated().sum()\n",
    "print(\"Duplicate rows: \", dups)\n",
    "\n",
    "if dups > 0:\n",
    "    df = df.drop_duplicates().reset_index(drop = True)\n",
    "    print(\"Duplicates dropped, new shape is \", df.shape)\n",
    "else:\n",
    "    print(\"No duplicates to drop\")"
   ],
   "id": "1f323cbfd2b16047",
   "outputs": [
    {
     "name": "stdout",
     "output_type": "stream",
     "text": [
      "Duplicate rows:  23\n",
      "Duplicates dropped, new shape is  (30139, 15)\n"
     ]
    }
   ],
   "execution_count": 28
  },
  {
   "metadata": {
    "ExecuteTime": {
     "end_time": "2025-10-21T12:42:07.764826Z",
     "start_time": "2025-10-21T12:42:07.566532Z"
    }
   },
   "cell_type": "code",
   "source": [
    "# Detecting and clipping outliers using IQR\n",
    "cols_for_outliers = [\"age\", \"fnlwgt\", \"education_num\", \"capital_gain\", \"capital_loss\", \"hours_per_week\"]\n",
    "\n",
    "outlier_summary = {}\n",
    "for col in cols_for_outliers:\n",
    "    Q1 = df[col].quantile(0.25)\n",
    "    Q3 = df[col].quantile(0.75)\n",
    "    IQR = Q3 - Q1\n",
    "    lower = Q1 - (1.5 * IQR)\n",
    "    upper = Q3 + (1.5 * IQR)\n",
    "    num_outliers = ((df[col] < lower) | (df[col] > upper)).sum()\n",
    "    outlier_summary[col] = {\"Q1\": int(Q1), \"Q3\": int(Q3), \"IQR\": int(IQR), \"lower\": int(lower), \"upper\": int(upper), \"num_outliers\": int(num_outliers)}\n",
    "    df[col] = df[col].clip(lower = lower, upper = upper)\n",
    "\n",
    "import pprint\n",
    "pprint.pprint(outlier_summary)\n",
    "print(\"\\nAfter clipping, the ranges are: \")\n",
    "print(df[cols_for_outliers].agg([\"min\", \"max\", \"median\"]))"
   ],
   "id": "33af863f42ec293b",
   "outputs": [
    {
     "name": "stdout",
     "output_type": "stream",
     "text": [
      "{'age': {'IQR': 19,\n",
      "         'Q1': 28,\n",
      "         'Q3': 47,\n",
      "         'lower': 0,\n",
      "         'num_outliers': 168,\n",
      "         'upper': 75},\n",
      " 'capital_gain': {'IQR': 0,\n",
      "                  'Q1': 0,\n",
      "                  'Q3': 0,\n",
      "                  'lower': 0,\n",
      "                  'num_outliers': 2538,\n",
      "                  'upper': 0},\n",
      " 'capital_loss': {'IQR': 0,\n",
      "                  'Q1': 0,\n",
      "                  'Q3': 0,\n",
      "                  'lower': 0,\n",
      "                  'num_outliers': 1427,\n",
      "                  'upper': 0},\n",
      " 'education_num': {'IQR': 4,\n",
      "                   'Q1': 9,\n",
      "                   'Q3': 13,\n",
      "                   'lower': 3,\n",
      "                   'num_outliers': 193,\n",
      "                   'upper': 19},\n",
      " 'fnlwgt': {'IQR': 119977,\n",
      "            'Q1': 117627,\n",
      "            'Q3': 237604,\n",
      "            'lower': -62338,\n",
      "            'num_outliers': 904,\n",
      "            'upper': 417570},\n",
      " 'hours_per_week': {'IQR': 5,\n",
      "                    'Q1': 40,\n",
      "                    'Q3': 45,\n",
      "                    'lower': 32,\n",
      "                    'num_outliers': 7947,\n",
      "                    'upper': 52}}\n",
      "\n",
      "After clipping, the ranges are: \n",
      "         age    fnlwgt  education_num  capital_gain  capital_loss  \\\n",
      "min     17.0   13769.0            3.0           0.0           0.0   \n",
      "max     75.5  417570.0           16.0           0.0           0.0   \n",
      "median  37.0  178417.0           10.0           0.0           0.0   \n",
      "\n",
      "        hours_per_week  \n",
      "min               32.5  \n",
      "max               52.5  \n",
      "median            40.0  \n"
     ]
    }
   ],
   "execution_count": 34
  },
  {
   "metadata": {
    "ExecuteTime": {
     "end_time": "2025-10-21T12:50:22.249154Z",
     "start_time": "2025-10-21T12:50:22.062065Z"
    }
   },
   "cell_type": "code",
   "source": [
    "# Engineering new features\n",
    "df[\"capital_net\"] = df[\"capital_gain\"] - df[\"capital_loss\"]\n",
    "\n",
    "age_bins = [0, 25, 35, 45, 55, 65, 125]\n",
    "age_labels = [\"<25\", \"25-34\", \"35-44\", \"45-54\", \"55-64\", \"65+\"]\n",
    "df[\"age_group\"] = pd.cut(df[\"age\"], bins = age_bins, labels = age_labels, right = False)\n",
    "\n",
    "print(df[[\"age\", \"age_group\", \"capital_gain\", \"capital_loss\", \"capital_net\"]].head())"
   ],
   "id": "c515d0d783003f6a",
   "outputs": [
    {
     "name": "stdout",
     "output_type": "stream",
     "text": [
      "    age age_group  capital_gain  capital_loss  capital_net\n",
      "0  39.0     35-44             0             0            0\n",
      "1  50.0     45-54             0             0            0\n",
      "2  38.0     35-44             0             0            0\n",
      "3  53.0     45-54             0             0            0\n",
      "4  28.0     25-34             0             0            0\n"
     ]
    }
   ],
   "execution_count": 35
  },
  {
   "metadata": {},
   "cell_type": "code",
   "outputs": [],
   "execution_count": null,
   "source": "",
   "id": "5186e487caa0ad4e"
  }
 ],
 "metadata": {
  "kernelspec": {
   "display_name": "Python 3",
   "language": "python",
   "name": "python3"
  },
  "language_info": {
   "codemirror_mode": {
    "name": "ipython",
    "version": 2
   },
   "file_extension": ".py",
   "mimetype": "text/x-python",
   "name": "python",
   "nbconvert_exporter": "python",
   "pygments_lexer": "ipython2",
   "version": "2.7.6"
  }
 },
 "nbformat": 4,
 "nbformat_minor": 5
}
